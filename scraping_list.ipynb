{
 "cells": [
  {
   "attachments": {},
   "cell_type": "markdown",
   "metadata": {},
   "source": [
    "### Imports"
   ]
  },
  {
   "cell_type": "code",
   "execution_count": 41,
   "metadata": {},
   "outputs": [],
   "source": [
    "import requests\n",
    "import pandas as pd\n",
    "from bs4 import BeautifulSoup\n",
    "# from concurrent.futures import ThreadPoolExecutor\n",
    "from tqdm.contrib.concurrent import thread_map\n",
    "pd.set_option('display.max_colwidth', None)"
   ]
  },
  {
   "attachments": {},
   "cell_type": "markdown",
   "metadata": {},
   "source": [
    "### GET AIRLINES URLS ###"
   ]
  },
  {
   "cell_type": "code",
   "execution_count": 42,
   "metadata": {},
   "outputs": [],
   "source": [
    "url = 'https://www.pilotjobsnetwork.com/'\n",
    "max_urls = 5\n",
    "\n",
    "def get_airlines_urls(url):\n",
    "    response = requests.get(url)\n",
    "    soup = BeautifulSoup(response.text, 'html.parser')\n",
    "    links = soup.find_all('a')\n",
    "    for link in links:\n",
    "        href = link.get('href')\n",
    "        if href and 'jobs/' in href:\n",
    "            airline_url = url + href\n",
    "            airline_name = link.text.strip()\n",
    "            yield airline_url, airline_name # crée un générateur"
   ]
  },
  {
   "attachments": {},
   "cell_type": "markdown",
   "metadata": {},
   "source": [
    "### GET INFO FROM PAGES ###"
   ]
  },
  {
   "cell_type": "code",
   "execution_count": 47,
   "metadata": {},
   "outputs": [],
   "source": [
    "def get_airline_tables(airline_tuple):\n",
    "    airline_url, airline_name = airline_tuple\n",
    "    try:\n",
    "        list_tables = pd.read_html(airline_url)\n",
    "        salary = list_tables[3].iloc[2:4,1].tolist()\n",
    "        # iloc iloc[2:4,2] gets you the dates, but remove the salary ... smthing to dig\n",
    "        return [airline_url, airline_name] + salary\n",
    "    except Exception as e:\n",
    "        print(e)\n",
    "        try:\n",
    "            return list_tables[3]\n",
    "        except NameError:\n",
    "            return airline_url"
   ]
  },
  {
   "attachments": {},
   "cell_type": "markdown",
   "metadata": {},
   "source": [
    "### MAP IT !! ###"
   ]
  },
  {
   "cell_type": "code",
   "execution_count": 44,
   "metadata": {},
   "outputs": [
    {
     "data": {
      "application/vnd.jupyter.widget-view+json": {
       "model_id": "cc293856b391414aa721feebcf10dc17",
       "version_major": 2,
       "version_minor": 0
      },
      "text/plain": [
       "0it [00:00, ?it/s]"
      ]
     },
     "metadata": {},
     "output_type": "display_data"
    },
    {
     "name": "stdout",
     "output_type": "stream",
     "text": [
      "'ascii' codec can't encode characters in position 18-19: ordinal not in range(128)\n",
      "URL can't contain control characters. '/jobs/Hello\\r\\n\\r\\nI_recently_visited_your_site__ppjn.com__from_a_Google_search_using_the_Google_chrome_browser._\\r\\n\\r\\nI_wanted_to_reach_out_as_I_noticed_it_displayed_a_not_secure_warning_just_to_the_left_of_where_the_url_is_displayed,_rather_than_the_usual_padlock_icon_you_see_on_similar_sites_to_yours._Do_you_get_that_as_well_when_you_visit_your_site?_If_you_read_on_Google' (found at least '\\r')\n"
     ]
    }
   ],
   "source": [
    "list_salaries = list(thread_map(get_airline_tables, get_airlines_urls(url)))\n",
    "# print dans un excel le list_salaries"
   ]
  },
  {
   "attachments": {},
   "cell_type": "markdown",
   "metadata": {},
   "source": [
    "### DF AS OUTPUT ###"
   ]
  },
  {
   "cell_type": "code",
   "execution_count": 45,
   "metadata": {},
   "outputs": [
    {
     "data": {
      "text/html": [
       "<div>\n",
       "<style scoped>\n",
       "    .dataframe tbody tr th:only-of-type {\n",
       "        vertical-align: middle;\n",
       "    }\n",
       "\n",
       "    .dataframe tbody tr th {\n",
       "        vertical-align: top;\n",
       "    }\n",
       "\n",
       "    .dataframe thead th {\n",
       "        text-align: right;\n",
       "    }\n",
       "</style>\n",
       "<table border=\"1\" class=\"dataframe\">\n",
       "  <thead>\n",
       "    <tr style=\"text-align: right;\">\n",
       "      <th></th>\n",
       "      <th>0</th>\n",
       "      <th>1</th>\n",
       "      <th>2</th>\n",
       "      <th>3</th>\n",
       "    </tr>\n",
       "  </thead>\n",
       "  <tbody>\n",
       "    <tr>\n",
       "      <th>0</th>\n",
       "      <td>https://www.pilotjobsnetwork.com/jobs/Corendon_Airlines</td>\n",
       "      <td>5Mar - Turkey (Ma) - Corendon Airlines</td>\n",
       "      <td>6250</td>\n",
       "      <td>5250</td>\n",
       "    </tr>\n",
       "    <tr>\n",
       "      <th>1</th>\n",
       "      <td>https://www.pilotjobsnetwork.com/jobs/Hifly</td>\n",
       "      <td>5Mar - Portugal (Ch) - Hifly</td>\n",
       "      <td>Capt top 240,000â¬</td>\n",
       "      <td>Capt base 220,000â¬</td>\n",
       "    </tr>\n",
       "    <tr>\n",
       "      <th>2</th>\n",
       "      <td>https://www.pilotjobsnetwork.com/jobs/Air_Japan</td>\n",
       "      <td>3Mar - Japan (Le) - Air Japan</td>\n",
       "      <td>$16090</td>\n",
       "      <td>$10930</td>\n",
       "    </tr>\n",
       "    <tr>\n",
       "      <th>3</th>\n",
       "      <td>https://www.pilotjobsnetwork.com/jobs/Air_Hamburg_Luftverkehrsgesellschaft_mbH</td>\n",
       "      <td>3Mar - Germany (Fr) - Air Hamburg Luftverkehrsgesellschaft mbH</td>\n",
       "      <td>108.000 Euro / Large Jets 84.000 Euro / Light Jets</td>\n",
       "      <td>84.000 Euro / Large Jets 72.000 Euro / Light Jets</td>\n",
       "    </tr>\n",
       "    <tr>\n",
       "      <th>4</th>\n",
       "      <td>https://www.pilotjobsnetwork.com/jobs/Aerowest</td>\n",
       "      <td>3Mar - Germany (Fr) - Aerowest</td>\n",
       "      <td>95.000 EUR</td>\n",
       "      <td>60000</td>\n",
       "    </tr>\n",
       "    <tr>\n",
       "      <th>...</th>\n",
       "      <td>...</td>\n",
       "      <td>...</td>\n",
       "      <td>...</td>\n",
       "      <td>...</td>\n",
       "    </tr>\n",
       "    <tr>\n",
       "      <th>494</th>\n",
       "      <td>https://www.pilotjobsnetwork.com/jobs/FlyinGroup</td>\n",
       "      <td>13Aug - Belgium (Fr) - FlyinGroup</td>\n",
       "      <td>NaN</td>\n",
       "      <td>NaN</td>\n",
       "    </tr>\n",
       "    <tr>\n",
       "      <th>495</th>\n",
       "      <td>https://www.pilotjobsnetwork.com/jobs/MS_AVIATION</td>\n",
       "      <td>12Aug - Austria (Fr) - MS AVIATION</td>\n",
       "      <td>NaN</td>\n",
       "      <td>NaN</td>\n",
       "    </tr>\n",
       "    <tr>\n",
       "      <th>496</th>\n",
       "      <td>https://www.pilotjobsnetwork.com/jobs/ESMA_Aviation</td>\n",
       "      <td>12Aug - France (Re) - ESMA Aviation</td>\n",
       "      <td>NaN</td>\n",
       "      <td>NaN</td>\n",
       "    </tr>\n",
       "    <tr>\n",
       "      <th>497</th>\n",
       "      <td>https://www.pilotjobsnetwork.com/jobs/Compass_Airlines</td>\n",
       "      <td>9Aug - USA (Ma) - Compass Airlines</td>\n",
       "      <td>NaN</td>\n",
       "      <td>NaN</td>\n",
       "    </tr>\n",
       "    <tr>\n",
       "      <th>498</th>\n",
       "      <td>https://www.pilotjobsnetwork.com/jobs/Luxaviation_UK</td>\n",
       "      <td>3Aug - UK (Ch) - Luxaviation UK</td>\n",
       "      <td>GBP53,200 + loyalty bonus (see above)</td>\n",
       "      <td>See above</td>\n",
       "    </tr>\n",
       "  </tbody>\n",
       "</table>\n",
       "<p>499 rows × 4 columns</p>\n",
       "</div>"
      ],
      "text/plain": [
       "                                                                                  0  \\\n",
       "0                           https://www.pilotjobsnetwork.com/jobs/Corendon_Airlines   \n",
       "1                                       https://www.pilotjobsnetwork.com/jobs/Hifly   \n",
       "2                                   https://www.pilotjobsnetwork.com/jobs/Air_Japan   \n",
       "3    https://www.pilotjobsnetwork.com/jobs/Air_Hamburg_Luftverkehrsgesellschaft_mbH   \n",
       "4                                    https://www.pilotjobsnetwork.com/jobs/Aerowest   \n",
       "..                                                                              ...   \n",
       "494                                https://www.pilotjobsnetwork.com/jobs/FlyinGroup   \n",
       "495                               https://www.pilotjobsnetwork.com/jobs/MS_AVIATION   \n",
       "496                             https://www.pilotjobsnetwork.com/jobs/ESMA_Aviation   \n",
       "497                          https://www.pilotjobsnetwork.com/jobs/Compass_Airlines   \n",
       "498                            https://www.pilotjobsnetwork.com/jobs/Luxaviation_UK   \n",
       "\n",
       "                                                                  1  \\\n",
       "0                            5Mar - Turkey (Ma) - Corendon Airlines   \n",
       "1                                      5Mar - Portugal (Ch) - Hifly   \n",
       "2                                     3Mar - Japan (Le) - Air Japan   \n",
       "3    3Mar - Germany (Fr) - Air Hamburg Luftverkehrsgesellschaft mbH   \n",
       "4                                    3Mar - Germany (Fr) - Aerowest   \n",
       "..                                                              ...   \n",
       "494                               13Aug - Belgium (Fr) - FlyinGroup   \n",
       "495                              12Aug - Austria (Fr) - MS AVIATION   \n",
       "496                             12Aug - France (Re) - ESMA Aviation   \n",
       "497                              9Aug - USA (Ma) - Compass Airlines   \n",
       "498                                 3Aug - UK (Ch) - Luxaviation UK   \n",
       "\n",
       "                                                      2  \\\n",
       "0                                                  6250   \n",
       "1                                   Capt top 240,000â¬   \n",
       "2                                                $16090   \n",
       "3    108.000 Euro / Large Jets 84.000 Euro / Light Jets   \n",
       "4                                            95.000 EUR   \n",
       "..                                                  ...   \n",
       "494                                                 NaN   \n",
       "495                                                 NaN   \n",
       "496                                                 NaN   \n",
       "497                                                 NaN   \n",
       "498               GBP53,200 + loyalty bonus (see above)   \n",
       "\n",
       "                                                     3  \n",
       "0                                                 5250  \n",
       "1                                 Capt base 220,000â¬  \n",
       "2                                               $10930  \n",
       "3    84.000 Euro / Large Jets 72.000 Euro / Light Jets  \n",
       "4                                                60000  \n",
       "..                                                 ...  \n",
       "494                                                NaN  \n",
       "495                                                NaN  \n",
       "496                                                NaN  \n",
       "497                                                NaN  \n",
       "498                                          See above  \n",
       "\n",
       "[499 rows x 4 columns]"
      ]
     },
     "execution_count": 45,
     "metadata": {},
     "output_type": "execute_result"
    }
   ],
   "source": [
    "df_salary = pd.DataFrame([salary for salary in list_salaries if type(salary) == list])\n",
    "df_salary\n",
    "\n",
    "# TO DO :\n",
    "# DF needs cleaning, columns names, etc\n",
    "# Check about the NaNs\n",
    "# See if possible to extract currency (to dble check with meta data, maybe?)\n",
    "# Add in the DF : \"update dates\""
   ]
  },
  {
   "attachments": {},
   "cell_type": "markdown",
   "metadata": {},
   "source": [
    "### ERRORS LIST ###"
   ]
  },
  {
   "cell_type": "code",
   "execution_count": 46,
   "metadata": {},
   "outputs": [
    {
     "data": {
      "text/plain": [
       "['https://www.pilotjobsnetwork.com/jobs/Air_CaraÃ¯bes_Atlantique',\n",
       " 'https://www.pilotjobsnetwork.com/jobs/Hello\\r\\n\\r\\nI_recently_visited_your_site__ppjn.com__from_a_Google_search_using_the_Google_chrome_browser._\\r\\n\\r\\nI_wanted_to_reach_out_as_I_noticed_it_displayed_a_not_secure_warning_just_to_the_left_of_where_the_url_is_displayed,_rather_than_the_usual_padlock_icon_you_see_on_similar_sites_to_yours._Do_you_get_that_as_well_when_you_visit_your_site?_If_you_read_on_Google']"
      ]
     },
     "execution_count": 46,
     "metadata": {},
     "output_type": "execute_result"
    }
   ],
   "source": [
    "[salary for salary in list_salaries if type(salary) == str]"
   ]
  }
 ],
 "metadata": {
  "kernelspec": {
   "display_name": "Python 3.10.9 64-bit",
   "language": "python",
   "name": "python3"
  },
  "language_info": {
   "codemirror_mode": {
    "name": "ipython",
    "version": 3
   },
   "file_extension": ".py",
   "mimetype": "text/x-python",
   "name": "python",
   "nbconvert_exporter": "python",
   "pygments_lexer": "ipython3",
   "version": "3.10.9"
  },
  "orig_nbformat": 4,
  "vscode": {
   "interpreter": {
    "hash": "b0fa6594d8f4cbf19f97940f81e996739fb7646882a419484c72d19e05852a7e"
   }
  }
 },
 "nbformat": 4,
 "nbformat_minor": 2
}
